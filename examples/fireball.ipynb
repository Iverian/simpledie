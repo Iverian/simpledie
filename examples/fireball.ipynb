{
 "cells": [
  {
   "cell_type": "code",
   "execution_count": null,
   "metadata": {
    "vscode": {
     "languageId": "rust"
    }
   },
   "outputs": [],
   "source": [
    ":dep plotters = { version = \"0.3.7\", default-features = false, features = [\"evcxr\", \"all_series\", \"all_elements\"] }\n",
    ":dep itertools = \"0.13.0\"\n",
    ":dep simpledie = { path = \"..\" }"
   ]
  },
  {
   "cell_type": "code",
   "execution_count": null,
   "metadata": {
    "vscode": {
     "languageId": "rust"
    }
   },
   "outputs": [],
   "source": [
    "extern crate plotters;\n",
    "\n",
    "use std::cmp::Ord;\n",
    "use std::ops::Add;\n",
    "use std::ops::Mul;\n",
    "\n",
    "use itertools::Itertools;\n",
    "use plotters::prelude::*;\n",
    "use plotters::evcxr::SVGWrapper\n",
    "use simpledie::Die;\n",
    "use simpledie::{D100, D20, D12, D8, D6, D4, D2};"
   ]
  },
  {
   "cell_type": "code",
   "execution_count": null,
   "metadata": {
    "vscode": {
     "languageId": "rust"
    }
   },
   "outputs": [],
   "source": [
    "fn plot_die<K>(die: &Die<K>) -> SVGWrapper\n",
    "where\n",
    "    K: Copy,\n",
    "    u64: From<K>,\n",
    "{\n",
    "    let data: Vec<(u64, f64)> = die.probabilities().unwrap();\n",
    "    let x0 = data.first().unwrap().0;\n",
    "    let x1 = data.last().unwrap().0;\n",
    "    let m = data.iter().map(|(_, c)| *c).reduce(f64::max).unwrap();\n",
    "\n",
    "    evcxr_figure((640, 480), |root| {\n",
    "        root.fill(&WHITE)?;\n",
    "        let mut chart = ChartBuilder::on(&root)\n",
    "            .x_label_area_size(35)\n",
    "            .y_label_area_size(40)\n",
    "            .margin(5)\n",
    "            .build_cartesian_2d((x0..x1).into_segmented(), 0f64..m)?;\n",
    "        chart\n",
    "            .configure_mesh()\n",
    "            .disable_x_mesh()\n",
    "            .draw()?;\n",
    "        chart.draw_series(\n",
    "            Histogram::vertical(&chart)\n",
    "                .style(BLUE.filled())\n",
    "                .margin(1)\n",
    "                .data(data.iter().map(|&(x, y)| (x, y))),\n",
    "        )?;    \n",
    "        Ok(())\n",
    "    })\n",
    "}"
   ]
  },
  {
   "cell_type": "code",
   "execution_count": null,
   "metadata": {
    "vscode": {
     "languageId": "rust"
    }
   },
   "outputs": [],
   "source": [
    "let save_dc = 8 + 3 + 5;\n",
    "let ability_mod = 4;\n",
    "let hit = D6.repeat(8, Add::add);\n",
    "let d = D20\n",
    "    .combine_with(&hit, |x, y| if x + ability_mod < save_dc { y } else { y / 2 })\n",
    ";\n",
    "plot_die(&d)"
   ]
  },
  {
   "cell_type": "code",
   "execution_count": null,
   "metadata": {
    "vscode": {
     "languageId": "rust"
    }
   },
   "outputs": [],
   "source": []
  }
 ],
 "metadata": {
  "kernelspec": {
   "display_name": "Rust",
   "language": "rust",
   "name": "rust"
  },
  "language_info": {
   "codemirror_mode": "rust",
   "file_extension": ".rs",
   "mimetype": "text/rust",
   "name": "Rust",
   "pygment_lexer": "rust",
   "version": ""
  }
 },
 "nbformat": 4,
 "nbformat_minor": 2
}
